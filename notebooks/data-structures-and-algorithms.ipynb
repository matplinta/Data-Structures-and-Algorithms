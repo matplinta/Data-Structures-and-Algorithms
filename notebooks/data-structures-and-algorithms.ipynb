{
  "cells": [
    {
      "cell_type": "markdown",
      "metadata": {
        "id": "1pwAhbu1Ady2"
      },
      "source": [
        "# Data Structures and Algorithms"
      ]
    },
    {
      "cell_type": "markdown",
      "metadata": {
        "id": "BXhcmoSavErR"
      },
      "source": [
        "## Time Complexity\n",
        "An algorithm's time complexity specifies how long it will take to execute an algorithm as a function of its input size.\n",
        "<img src=\"https://github.com/matplinta/data-structures-and-algorithms/blob/main/media/big_o.png?raw=1\" alt=\"drawing\" width=\"800\"/>"
      ]
    },
    {
      "cell_type": "markdown",
      "source": [
        "### Arrays\n",
        "\n",
        "Given n = arr.length\n",
        "\n",
        "- Add or remove element at the end: $O(1)$ amortized amortized\n",
        "- Add or remove element from arbitrary index: $O(n)$\n",
        "- Access or modify element at arbitrary index: $O(1)$\n",
        "- Check if element exists: $O(n)$\n",
        "- Two pointers: $O(n \\cdot k)$, where $k$ is the work done at each iteration, includes sliding window\n",
        "- Building a prefix sum: $O(n)$\n",
        "- Finding the sum of a subarray given a prefix sum: $O(1)$\n",
        "\n",
        "\n"
      ],
      "metadata": {
        "id": "eorEf8spRUM0"
      }
    },
    {
      "cell_type": "markdown",
      "source": [
        "### Strings (immutable)\n",
        "Given n = s.length,\n",
        "\n",
        "- Add or remove character: $O(n)$\n",
        "- Access element at arbitrary index: $O(1)$\n",
        "- Concatenation between two strings: $O(n+m)$, where $m$ is the length of the other string\n",
        "- Create substring: $O(m)$, where $m$ is the length of the substring\n",
        "- Two pointers: $O(n \\cdot k)$, where $k$ is the work done at each iteration, includes sliding window\n",
        "- Building a string from joining an array, stringbuilder, etc.: $O(n)$"
      ],
      "metadata": {
        "id": "KLrLx2YxSfyu"
      }
    },
    {
      "cell_type": "markdown",
      "source": [
        "### Linked Lists\n",
        "Given $n$ as the number of nodes in the linked list,\n",
        "\n",
        "- Add or remove element given pointer before add/removal location: $O(1)$\n",
        "- Add or remove element given pointer at add/removal location: $O(1)$ if doubly linked\n",
        "- Add or remove element at arbitrary position without pointer: $O(n)$\n",
        "- Access element at arbitrary position without pointer: $O(n)$\n",
        "- Check if element exists: $O(n)$\n",
        "- Reverse between position i and j: $O(j−i)$\n",
        "- Detect a cycle: $O(n)$\n"
      ],
      "metadata": {
        "id": "vERt6FtVTEvH"
      }
    },
    {
      "cell_type": "markdown",
      "source": [
        "### Hash table/dictionary\n",
        "\n",
        "Given n = dic.length,\n",
        "\n",
        "- Add or remove key-value pair: $O(1)$\n",
        "- Check if key exists: $O(1)$\n",
        "- Check if value exists: $O(n)$\n",
        "- Access or modify value associated with key: $O(1)$\n",
        "- Iterate over all keys, values, or both: $O(n)$\n"
      ],
      "metadata": {
        "id": "v9fsJbC2ULq6"
      }
    },
    {
      "cell_type": "markdown",
      "source": [
        "### Set\n",
        "Given n = set.length,\n",
        "\n",
        "- Add or remove element: $O(1)$\n",
        "- Check if element exists: $O(1)$"
      ],
      "metadata": {
        "id": "Iq9iJgu0UpyH"
      }
    },
    {
      "cell_type": "markdown",
      "source": [
        "### Stack\n",
        "\n",
        "Stack operations are dependent on their implementation. A stack is only required to support pop and push. If implemented with a dynamic array:\n",
        "\n",
        "Given n = stack.length,\n",
        "\n",
        "- Push element: $O(1)$\n",
        "- Pop element: $O(1)$\n",
        "- Peek (see element at the top of stack): $O(1)$\n",
        "- Access or modify element at arbitrary index: $O(1)$\n",
        "- Check if element exists: $O(n)$\n"
      ],
      "metadata": {
        "id": "dc3PV-0KU3xc"
      }
    },
    {
      "cell_type": "markdown",
      "source": [
        "### Queue\n",
        "\n",
        "Queue operations are dependent on their implementation. A queue is only required to support dequeue and enqueue. If implemented with a doubly linked list:\n",
        "\n",
        "Given n = queue.length,\n",
        "\n",
        "- Enqueue element: $O(1)$\n",
        "- Dequeue element: $O(1)$\n",
        "- Peek (see element at the front of queue): $O(1)$\n",
        "- Access or modify element at arbitrary index: $O(n)$\n",
        "- Check if element exists: $O(n)$\n"
      ],
      "metadata": {
        "id": "iDXwvWueVGCb"
      }
    },
    {
      "cell_type": "markdown",
      "source": [
        "### Heap/Priority Queue\n",
        "\n",
        "Given n = heap.length and talking about min heaps,\n",
        "\n",
        "- Add an element: $O(\\log n)$\n",
        "- Delete the minimum element: $O(\\log n)$\n",
        "- Find the minimum element: $O(1)$\n",
        "- Check if element exists: $O(n)$\n"
      ],
      "metadata": {
        "id": "6j83raZMVkCB"
      }
    },
    {
      "cell_type": "markdown",
      "source": [
        "### Binary tree problems (DFS/BFS)\n",
        "\n",
        "Given\n",
        "$n$ as the number of nodes in the tree,\n",
        "\n",
        "Most algorithms will run in\n",
        "$O(n \\cdot k)$ time, where\n",
        "$k$ is the work done at each node, usually\n",
        "$O(1)$. This is just a general rule and not always the case. We are assuming here that BFS is implemented with an efficient queue.\n"
      ],
      "metadata": {
        "id": "fA4w_jWwVnSl"
      }
    },
    {
      "cell_type": "markdown",
      "source": [
        "### Binary search tree\n",
        "\n",
        "Given\n",
        "$n$ as the number of nodes in the tree,\n",
        "\n",
        "- Add or remove element: $O(n)$ worst case, $O(\\log n)$ average case\n",
        "- Check if element exists: $O(n)$ worst case, $O(\\log n)$ average case\n",
        "\n",
        "The average case is when the tree is well balanced - each depth is close to full. The worst case is when the tree is just a straight line.\n",
        "\n"
      ],
      "metadata": {
        "id": "YO_dN2AiWH1g"
      }
    },
    {
      "cell_type": "markdown",
      "source": [
        "### Binary search\n",
        "\n",
        "Binary search runs in $O(\\log n)$ in the worst case, where $n$ is the size of your initial search space.\n"
      ],
      "metadata": {
        "id": "B2OmtFwPWW1l"
      }
    },
    {
      "cell_type": "markdown",
      "source": [
        "### Miscellaneous\n",
        "\n",
        "- Sorting: $O(n \\cdot \\log n)$, where $n$ is the size of the data being sorted\n",
        "- DFS and BFS on a graph: $O(n \\cdot k + e)$, where $n$ is the number of nodes, $e$ is the number of edges, if each node is handled in $O(1)$ other than iterating over edges\n",
        "- DFS and BFS space complexity: typically $O(n)$, but if it's in a graph, might be $O(n + e)$ to store the graph\n",
        "- Dynamic programming time complexity: $O(n \\cdot k)$, where $n$ is the number of states and $k$ is the work done at each state\n",
        "- Dynamic programming space complexity: $O(n)$, where $n$ is the number of states\n"
      ],
      "metadata": {
        "id": "KNRX3hrQWqnz"
      }
    },
    {
      "cell_type": "markdown",
      "metadata": {
        "id": "yWE7OzL9vJR8"
      },
      "source": [
        "## Space Complexity\n",
        "\n",
        "Space Complexity = Auxiliary Space + Space used for input values"
      ]
    },
    {
      "cell_type": "markdown",
      "source": [
        "## Data Structures Implementations"
      ],
      "metadata": {
        "id": "ktMVEolMYyN4"
      }
    },
    {
      "cell_type": "markdown",
      "metadata": {
        "id": "dgkko2-5E32F"
      },
      "source": [
        "### Heap implementation"
      ]
    },
    {
      "cell_type": "code",
      "execution_count": null,
      "metadata": {
        "colab": {
          "base_uri": "https://localhost:8080/"
        },
        "id": "vG5yhwiK_beu",
        "outputId": "c040deec-13cc-4ed9-efbd-3fc1eebe6770"
      },
      "outputs": [
        {
          "name": "stdout",
          "output_type": "stream",
          "text": [
            "1\n",
            "3\n"
          ]
        }
      ],
      "source": [
        "class MinHeap:\n",
        "    def __init__(self):\n",
        "        self.heap = []\n",
        "\n",
        "    def parent(self, i):\n",
        "        return (i - 1) // 2\n",
        "\n",
        "    def left_child(self, i):\n",
        "        return 2 * i + 1\n",
        "\n",
        "    def right_child(self, i):\n",
        "        return 2 * i + 2\n",
        "\n",
        "    def insert(self, value):\n",
        "        self.heap.append(value)\n",
        "        self._heapify_up(len(self.heap) - 1)\n",
        "\n",
        "    def extract_min(self):\n",
        "        if len(self.heap) == 0:\n",
        "            return None\n",
        "        if len(self.heap) == 1:\n",
        "            return self.heap.pop()\n",
        "        min_value = self.heap[0]\n",
        "        self.heap[0] = self.heap.pop()\n",
        "        self._heapify_down(0)\n",
        "        return min_value\n",
        "\n",
        "    def _heapify_up(self, i):\n",
        "        while i > 0 and self.heap[i] < self.heap[self.parent(i)]:\n",
        "            self.heap[i], self.heap[self.parent(i)] = self.heap[self.parent(i)], self.heap[i]\n",
        "            i = self.parent(i)\n",
        "\n",
        "    def _heapify_down(self, i):\n",
        "        min_index = i\n",
        "        left = self.left_child(i)\n",
        "        right = self.right_child(i)\n",
        "\n",
        "        if left < len(self.heap) and self.heap[left] < self.heap[min_index]:\n",
        "            min_index = left\n",
        "\n",
        "        if right < len(self.heap) and self.heap[right] < self.heap[min_index]:\n",
        "            min_index = right\n",
        "\n",
        "        if i != min_index:\n",
        "            self.heap[i], self.heap[min_index] = self.heap[min_index], self.heap[i]\n",
        "            self._heapify_down(min_index)\n",
        "\n",
        "# Example usage:\n",
        "min_heap = MinHeap()\n",
        "min_heap.insert(4)\n",
        "min_heap.insert(10)\n",
        "min_heap.insert(3)\n",
        "min_heap.insert(5)\n",
        "min_heap.insert(1)\n",
        "min_heap.insert(7)\n",
        "min_heap.insert(9)\n",
        "min_heap.insert(23)\n",
        "min_heap.insert(145)\n",
        "min_heap.insert(78)\n",
        "\n",
        "print(min_heap.extract_min())  # Outputs: 1\n",
        "print(min_heap.extract_min())  # Outputs: 3"
      ]
    },
    {
      "cell_type": "code",
      "execution_count": null,
      "metadata": {
        "id": "9GbzDNvhFkj2"
      },
      "outputs": [],
      "source": [
        "import heapq\n",
        "\n",
        "def fn(scores, k):\n",
        "    heap = []\n",
        "    for player in scores:\n",
        "        CRITERIA = scores[player]\n",
        "        heapq.heappush(heap, (CRITERIA, player))\n",
        "        if len(heap) > k:\n",
        "            heapq.heappop(heap)\n",
        "\n",
        "    return [(score, player) for score, player in heap]\n",
        "\n",
        "arr = [5, 3, 8, 2, 7, 1, 9, 100]\n",
        "player_names = [\"Alice\", \"Bob\", \"Charlie\", \"David\", \"Eve\", \"Frank\", \"Grace\", \"Helen\"]\n",
        "player_scores = {player: score for player, score in zip(player_names, arr)}\n",
        "\n",
        "fn(player_scores, 3)"
      ]
    },
    {
      "cell_type": "code",
      "execution_count": null,
      "metadata": {
        "id": "5Cz6G8epFm3H"
      },
      "outputs": [],
      "source": [
        "import heapq\n",
        "\n",
        "class MaxHeap:\n",
        "    def __init__(self):\n",
        "        self.heap = []\n",
        "\n",
        "    def push(self, value):\n",
        "        # Invert the sign of the value before pushing it to make it a max-heap\n",
        "        heapq.heappush(self.heap, -value)\n",
        "\n",
        "    def pop(self):\n",
        "        if self.heap:\n",
        "            # Invert the sign of the popped value before returning it\n",
        "            return -heapq.heappop(self.heap)\n",
        "        else:\n",
        "            return None\n",
        "\n",
        "    def peek(self):\n",
        "        if self.heap:\n",
        "            # Invert the sign of the peeked value before returning it\n",
        "            return -self.heap[0]\n",
        "        else:\n",
        "            return None\n",
        "\n",
        "# Example usage:\n",
        "max_heap = MaxHeap()\n",
        "max_heap.push(3)\n",
        "max_heap.push(1)\n",
        "max_heap.push(4)\n",
        "max_heap.push(5)\n",
        "max_heap.push(2)\n",
        "\n",
        "print(max_heap.pop())  # Outputs: 5 (the maximum element)\n",
        "print(max_heap.pop())  # Outputs: 4\n",
        "print(max_heap.peek())  # Outputs: 3 (the current maximum element)\n"
      ]
    },
    {
      "cell_type": "markdown",
      "metadata": {
        "id": "-_FM_mNgFO-v"
      },
      "source": [
        "### Binary Tree"
      ]
    },
    {
      "cell_type": "code",
      "execution_count": null,
      "metadata": {
        "id": "sZGf6wXA95fO"
      },
      "outputs": [],
      "source": [
        "class TreeNode:\n",
        "    def __init__(self, value):\n",
        "        self.value = value\n",
        "        self.left = None\n",
        "        self.right = None\n",
        "\n",
        "def binary_tree_height(root):\n",
        "    if root is None:\n",
        "        return -1  # An empty tree has a height of -1\n",
        "    else:\n",
        "        left_height = binary_tree_height(root.left)\n",
        "        right_height = binary_tree_height(root.right)\n",
        "        return max(left_height, right_height) + 1\n",
        "\n",
        "# Example usage:\n",
        "root = TreeNode(1)\n",
        "root.left = TreeNode(2)\n",
        "root.right = TreeNode(3)\n",
        "root.left.left = TreeNode(4)\n",
        "root.left.right = TreeNode(5)\n",
        "\n",
        "tree_height = binary_tree_height(root)\n",
        "print(\"Binary tree height:\", tree_height)"
      ]
    },
    {
      "cell_type": "code",
      "execution_count": null,
      "metadata": {
        "id": "dGciyVvyFbco"
      },
      "outputs": [],
      "source": [
        "class TreeNode:\n",
        "    def __init__(self, value):\n",
        "        self.value = value\n",
        "        self.left = None\n",
        "        self.right = None\n",
        "\n",
        "def binary_tree_height(root):\n",
        "    if root is None:\n",
        "        return -1  # An empty tree has a height of -1\n",
        "\n",
        "    height = -1  # Initialize the height to -1\n",
        "    queue = [root]  # Initialize a queue with the root node\n",
        "\n",
        "    while queue:\n",
        "        height += 1  # Increment the height at each level\n",
        "        level_size = len(queue)  # Get the number of nodes at this level\n",
        "\n",
        "        for _ in range(level_size):\n",
        "            node = queue.pop(0)  # Dequeue the node\n",
        "\n",
        "            # Enqueue the left and right child nodes if they exist\n",
        "            if node.left:\n",
        "                queue.append(node.left)\n",
        "            if node.right:\n",
        "                queue.append(node.right)\n",
        "\n",
        "    return height\n",
        "\n",
        "# Example usage:\n",
        "root = TreeNode(1)\n",
        "root.left = TreeNode(2)\n",
        "root.right = TreeNode(3)\n",
        "root.left.left = TreeNode(4)\n",
        "root.left.right = TreeNode(5)\n",
        "\n",
        "tree_height = binary_tree_height(root)\n",
        "print(\"Binary tree height:\", tree_height)\n"
      ]
    },
    {
      "cell_type": "markdown",
      "source": [
        "## Algorithms"
      ],
      "metadata": {
        "id": "Rlx_FQBsYQDy"
      }
    },
    {
      "cell_type": "markdown",
      "metadata": {
        "id": "-8mdvZUpHb_r"
      },
      "source": [
        "### Sorting"
      ]
    },
    {
      "cell_type": "markdown",
      "metadata": {
        "id": "aojAMPWTHZL5"
      },
      "source": [
        "#### Bubble Sort"
      ]
    },
    {
      "cell_type": "code",
      "execution_count": null,
      "metadata": {
        "id": "WTm4n1QFHbR7"
      },
      "outputs": [],
      "source": [
        "def bubbleSort(arr):\n",
        "    n = len(arr)\n",
        "    # optimize code, so if the array is already sorted, it doesn't need\n",
        "    # to go through the entire process\n",
        "    swapped = False\n",
        "    # Traverse through all array elements\n",
        "    for i in range(n-1):\n",
        "        # range(n) also work but outer loop will\n",
        "        # repeat one time more than needed.\n",
        "        # Last i elements are already in place\n",
        "        for j in range(0, n-i-1):\n",
        "\n",
        "            # traverse the array from 0 to n-i-1\n",
        "            # Swap if the element found is greater\n",
        "            # than the next element\n",
        "            if arr[j] > arr[j + 1]:\n",
        "                swapped = True\n",
        "                arr[j], arr[j + 1] = arr[j + 1], arr[j]\n",
        "\n",
        "        if not swapped:\n",
        "            # if we haven't needed to make a single swap, we\n",
        "            # can just exit the main loop.\n",
        "            return\n",
        "\n",
        "\n",
        "# Driver code to test above\n",
        "arr = [64, 34, 25, 12, 22, 11, 90]\n",
        "\n",
        "bubbleSort(arr)\n",
        "print(arr)"
      ]
    },
    {
      "cell_type": "markdown",
      "metadata": {
        "id": "_XAkKfj_HjI0"
      },
      "source": [
        "#### Merge Sort"
      ]
    },
    {
      "cell_type": "code",
      "execution_count": null,
      "metadata": {
        "id": "Z-xRIxnHHkKc"
      },
      "outputs": [],
      "source": [
        "def merge_sort(arr):\n",
        "    n = len(arr)\n",
        "    if n <= 1:\n",
        "        return arr\n",
        "    mid = n// 2\n",
        "\n",
        "    def merge(left, right):\n",
        "        i, j = 0, 0\n",
        "        result = []\n",
        "        while i < len(left) and j < len(right):\n",
        "            if left[i] < right[j]:\n",
        "                result.append(left[i])\n",
        "                i += 1\n",
        "            else:\n",
        "                result.append(right[j])\n",
        "                j += 1\n",
        "\n",
        "        result += left[i:] + right[j:]\n",
        "        return result\n",
        "\n",
        "    left_sorted = merge_sort(arr[:mid])\n",
        "    right_sorted = merge_sort(arr[mid:])\n",
        "    return merge(left_sorted, right_sorted)\n",
        "\n",
        "merge_sort([3,6,2,8])"
      ]
    },
    {
      "cell_type": "markdown",
      "metadata": {
        "id": "tl5z44C3Fuvx"
      },
      "source": [
        "### Binary Search"
      ]
    },
    {
      "cell_type": "code",
      "execution_count": null,
      "metadata": {
        "id": "LiSnHoloFv9A"
      },
      "outputs": [],
      "source": [
        "def bin_search(arr, target):\n",
        "    left = 0\n",
        "    right = len(arr) - 1\n",
        "    while left <= right:\n",
        "        mid = (left + right) // 2\n",
        "        if arr[mid] == target:\n",
        "            # do something\n",
        "            return mid\n",
        "        if arr[mid] > target:\n",
        "            right = mid - 1\n",
        "        else:\n",
        "            left = mid + 1\n",
        "\n",
        "    return -1\n",
        "arr = [1, 1, 2, 3, 5, 7, 8, 9, 100]\n",
        "bin_search(arr, 1)"
      ]
    },
    {
      "cell_type": "markdown",
      "metadata": {
        "id": "7fBjdvEJFyQh"
      },
      "source": [
        "### Backtracking"
      ]
    },
    {
      "cell_type": "code",
      "execution_count": 1,
      "metadata": {
        "id": "4etpXLIxFzvB",
        "colab": {
          "base_uri": "https://localhost:8080/"
        },
        "outputId": "a303180e-684e-441f-b3be-b3b024a62f47"
      },
      "outputs": [
        {
          "output_type": "stream",
          "name": "stdout",
          "text": [
            "[1, 2, 3]\n",
            "[1, 3, 2]\n",
            "[2, 1, 3]\n",
            "[2, 3, 1]\n",
            "[3, 1, 2]\n",
            "[3, 2, 1]\n"
          ]
        },
        {
          "output_type": "execute_result",
          "data": {
            "text/plain": [
              "6"
            ]
          },
          "metadata": {},
          "execution_count": 1
        }
      ],
      "source": [
        "def backtrack(curr, remaining_numbers):\n",
        "    if not remaining_numbers:\n",
        "        # Base case: No more numbers to add, so print the current permutation.\n",
        "        print(curr)\n",
        "        return 1\n",
        "\n",
        "    ans = 0\n",
        "    for num in remaining_numbers:\n",
        "        curr.append(num)  # Make a choice: add the number to the current permutation\n",
        "        rn_2 = remaining_numbers[:]  # Modify the current state\n",
        "        rn_2.remove(num)\n",
        "        ans += backtrack(curr, rn_2)  # Recursive call\n",
        "        # remaining_numbers.append(num)  # Undo the modification\n",
        "        curr.pop()  # Undo the choice\n",
        "\n",
        "    return ans\n",
        "\n",
        "# Example usage:\n",
        "numbers = [1, 2, 3]\n",
        "backtrack([], numbers)"
      ]
    },
    {
      "cell_type": "code",
      "execution_count": null,
      "metadata": {
        "id": "WXLtn_-JF1G7"
      },
      "outputs": [],
      "source": [
        "def main(numbers):\n",
        "    permutations = []\n",
        "    def backtrack(curr, remaining_numbers):\n",
        "        if not remaining_numbers:\n",
        "            # Base case: No more numbers to add, so print the current permutation.\n",
        "            # return curr\n",
        "            permutations.append(list(curr))\n",
        "\n",
        "        for num in remaining_numbers:\n",
        "            curr.append(num)  # Make a choice: add the number to the current permutation\n",
        "            rn_2 = remaining_numbers[:]  # Modify the current state\n",
        "            rn_2.remove(num)\n",
        "            backtrack(curr, rn_2)  # Recursive call\n",
        "            # remaining_numbers.append(num)  # Undo the modification\n",
        "            curr.pop()  # Undo the choice\n",
        "\n",
        "    backtrack([], numbers)\n",
        "    return permutations\n",
        "\n",
        "\n",
        "# Example usage:\n",
        "numbers = [1, 2, 3]\n",
        "main(numbers)"
      ]
    },
    {
      "cell_type": "code",
      "execution_count": null,
      "metadata": {
        "id": "zDI695BzF7xX"
      },
      "outputs": [],
      "source": [
        "def is_safe(maze, x, y):\n",
        "    if x < len(maze) and y < len(maze) and maze[x][y] == 1:\n",
        "        return True\n",
        "    return False\n",
        "\n",
        "def solve_maze_util(maze, x, y, solution):\n",
        "    if x == y == len(maze) - 1 and maze[x][y] == 1:\n",
        "        solution[x][y] = 1\n",
        "        return True\n",
        "\n",
        "    if is_safe(maze, x, y):\n",
        "        solution[x][y] = 1\n",
        "        if solve_maze_util(maze, x + 1, y, solution):\n",
        "            return True\n",
        "        if solve_maze_util(maze, x, y + 1, solution):\n",
        "            return True\n",
        "        solution[x][y] = 0\n",
        "        return False\n",
        "\n",
        "    return False\n",
        "\n",
        "def print_solution(solution):\n",
        "    for elem in solution:\n",
        "        print(elem)\n",
        "\n",
        "def solve_maze(maze):\n",
        "    size = len(maze)\n",
        "    solution = [[0]*size for _ in range(size)]\n",
        "\n",
        "    if not solve_maze_util(maze, 0, 0, solution):\n",
        "        print(\"No solution exists\")\n",
        "        return False\n",
        "    print_solution(solution)\n",
        "    return True\n",
        "\n",
        "\n",
        "maze = [\n",
        "    [1, 1, 0, 0, 0, 0, 0, 0, 0, 0],\n",
        "    [0, 1, 1, 0, 0, 0, 0, 0, 0, 0],\n",
        "    [0, 1, 1, 1, 0, 0, 0, 0, 0, 0],\n",
        "    [0, 1, 0, 1, 1, 0, 0, 0, 0, 0],\n",
        "    [0, 1, 0, 0, 1, 1, 0, 0, 0, 0],\n",
        "    [0, 1, 0, 0, 0, 1, 1, 0, 0, 0],\n",
        "    [0, 1, 0, 0, 0, 0, 1, 0, 0, 0],\n",
        "    [0, 1, 0, 0, 0, 0, 1, 1, 0, 0],\n",
        "    [0, 1, 1, 0, 0, 0, 0, 1, 1, 0],\n",
        "    [0, 0, 1, 1, 0, 1, 1, 1, 1, 1],\n",
        "]\n",
        "\n",
        "solve_maze(maze)"
      ]
    },
    {
      "cell_type": "code",
      "execution_count": null,
      "metadata": {
        "id": "VN9YLQ3xF9tt"
      },
      "outputs": [],
      "source": [
        "from copy import deepcopy\n",
        "\n",
        "def is_safe(maze, x, y):\n",
        "    if x < len(maze) and y < len(maze) and maze[x][y] == 1:\n",
        "        return True\n",
        "    return False\n",
        "\n",
        "def solve_maze_util(maze, x, y, solution, steps=0):\n",
        "    # print(steps)\n",
        "    if x == y == len(maze) - 1 and maze[x][y] == 1:\n",
        "        solution[x][y] = 1\n",
        "        return steps, solution\n",
        "\n",
        "    if is_safe(maze, x, y):\n",
        "        solution[x][y] = 1\n",
        "        min_steps, min_solution = min(\n",
        "            solve_maze_util(maze, x + 1, y, deepcopy(solution), steps + 1),\n",
        "            solve_maze_util(maze, x, y + 1, deepcopy(solution), steps + 1),\n",
        "            solve_maze_util(maze, x + 1, y + 1, deepcopy(solution), steps + 1),\n",
        "            key=lambda x: x[0])\n",
        "        if min_solution:\n",
        "            return min_steps, min_solution\n",
        "        solution[x][y] = 0\n",
        "        return float('inf'), None\n",
        "    return float('inf'), None\n",
        "\n",
        "def print_solution(solution):\n",
        "    for elem in solution:\n",
        "        print(elem)\n",
        "\n",
        "def solve_maze(maze):\n",
        "    size = len(maze)\n",
        "    solution = [[0]*size for _ in range(size)]\n",
        "\n",
        "    steps, solution = solve_maze_util(maze, 0, 0, solution)\n",
        "    if not solution:\n",
        "        print(\"No solution exists\")\n",
        "        return False\n",
        "    print_solution(solution)\n",
        "    print(steps)\n",
        "    return True\n",
        "\n",
        "\n",
        "maze = [\n",
        "    [1, 1, 0, 0, 0, 0, 0, 0, 0, 0],\n",
        "    [1, 1, 1, 0, 0, 0, 0, 0, 0, 0],\n",
        "    [1, 0, 1, 1, 0, 0, 0, 0, 0, 0],\n",
        "    [1, 0, 0, 1, 1, 0, 0, 0, 0, 0],\n",
        "    [1, 0, 0, 0, 1, 1, 0, 0, 0, 0],\n",
        "    [1, 0, 0, 0, 0, 1, 1, 0, 0, 0],\n",
        "    [1, 0, 0, 0, 0, 0, 1, 0, 0, 0],\n",
        "    [1, 0, 0, 0, 0, 0, 1, 1, 1, 0],\n",
        "    [1, 0, 0, 0, 0, 0, 0, 0, 1, 0],\n",
        "    [1, 1, 1, 1, 1, 1, 1, 1, 1, 1],\n",
        "]"
      ]
    },
    {
      "cell_type": "markdown",
      "metadata": {
        "id": "9QRqrCzdGgAQ"
      },
      "source": [
        "#### Remove Invalid Parenthesis"
      ]
    },
    {
      "cell_type": "code",
      "execution_count": null,
      "metadata": {
        "id": "uMVVyRPUGe3L"
      },
      "outputs": [],
      "source": [
        "def removeInvalidParentheses( s):\n",
        "        \"\"\"\n",
        "        :type s: str\n",
        "        :rtype: List[str]\n",
        "        \"\"\"\n",
        "        def isValid(s):\n",
        "            left_paren_count = 0\n",
        "            for c in s:\n",
        "                if c=='(':\n",
        "                    left_paren_count+=1\n",
        "                elif c==')':\n",
        "                    if left_paren_count==0:\n",
        "                        return False\n",
        "                    left_paren_count-=1\n",
        "                else:\n",
        "                    continue\n",
        "            return left_paren_count==0\n",
        "\n",
        "        def getCount(s):\n",
        "            # rslt = True\n",
        "            l, r = 0, 0 #extrac l or r parenthesis\n",
        "            for c in s:\n",
        "                l+=c=='('\n",
        "                if c==')':\n",
        "                    if l==0:\n",
        "                        r+=1\n",
        "                    else:\n",
        "                        l-=1\n",
        "            return (l,r)\n",
        "\n",
        "        rslt =[]\n",
        "\n",
        "        def dfs(s, idx, l, r):\n",
        "            if l==0 and r==0:\n",
        "                if isValid(s):\n",
        "                    rslt.append(s)\n",
        "                return\n",
        "            #delete extra l or r, every time we only delete one\n",
        "            for i in range(idx,len(s)):\n",
        "                c=s[i]\n",
        "                if i-1>=idx and c==s[i-1]: #to avoid duplication\n",
        "                    continue\n",
        "                if c==')':\n",
        "                    new_s = s[:i]+s[i+1:]\n",
        "                    dfs(new_s, i,l,r-1)\n",
        "                if c=='(':\n",
        "                    new_s = s[:i]+s[i+1:]\n",
        "                    dfs(new_s, i,l-1,r)\n",
        "\n",
        "        l, r = getCount(s)\n",
        "        dfs(s,0, l,r)\n",
        "        return rslt\n",
        "\n",
        "def isValid(s):\n",
        "    stack = []\n",
        "    for char in s:\n",
        "        if char == '(':\n",
        "            stack.append(char)\n",
        "        elif char == ')':\n",
        "            if stack:\n",
        "                stack.pop()\n",
        "            else:\n",
        "                return False\n",
        "        else:\n",
        "            continue\n",
        "    if len(stack) == 0:\n",
        "        return True\n",
        "    return False\n",
        "\n",
        "removeInvalidParentheses(\"())())()\")"
      ]
    },
    {
      "cell_type": "markdown",
      "metadata": {
        "id": "XIldWTLMGo8M"
      },
      "source": [
        "### Dijkstra Algorithm\n",
        "Finding the shortest path to the adjacent nodes from the one specified.\n",
        "\n",
        "Solution uses min-heap and iterates through node neighbours.\n",
        "\n",
        "Graph is specified via adjacency list."
      ]
    },
    {
      "cell_type": "code",
      "execution_count": null,
      "metadata": {
        "id": "mUH85oCMGqCi"
      },
      "outputs": [],
      "source": [
        "from math import inf\n",
        "from heapq import *\n",
        "\n",
        "def dijkstra(graph, source):\n",
        "    n = len(graph)\n",
        "    distances = [inf] * n\n",
        "    distances[source] = 0\n",
        "    heap = [(0, source)]\n",
        "\n",
        "    while heap:\n",
        "        curr_dist, node = heappop(heap)\n",
        "        if curr_dist > distances[node]:\n",
        "            # print(f\"skip {node}\")\n",
        "            continue\n",
        "\n",
        "        for nei, weight in graph[node]:\n",
        "            dist = curr_dist + weight\n",
        "            if dist < distances[nei]:\n",
        "                distances[nei] = dist\n",
        "                heappush(heap, (dist, nei))\n",
        "    return distances\n",
        "\n",
        "graph = [\n",
        "    [(1, 15), (2, 10)],\n",
        "    [(2, 2), (3, 10)],\n",
        "    [(3, 5), (4, 1)],\n",
        "    [],\n",
        "    [(3, 3)],\n",
        "]\n",
        "\n",
        "dijkstra(graph, 0)"
      ]
    },
    {
      "cell_type": "markdown",
      "metadata": {
        "id": "cOcKKnfbHL-w"
      },
      "source": [
        "### Tortoise and Hare Algorithm\n",
        "- detecting cycles in **linked lists**\n",
        "- finding values in"
      ]
    },
    {
      "cell_type": "code",
      "execution_count": null,
      "metadata": {
        "id": "PIOLIi5aHWN8"
      },
      "outputs": [],
      "source": [
        "function hasCycle(head) {\n",
        "  if (!head || !head.next) {\n",
        "        return false\n",
        "  }\n",
        "  let tortoise = head;\n",
        "  let hare = head.next;\n",
        "\n",
        "  while (hare && hare.next) {\n",
        "    if (tortoise === hare) {\n",
        "      return true;\n",
        "    }\n",
        "    tortoise = tortoise.next;\n",
        "    hare = hare.next.next;\n",
        "  }\n",
        "  return false;\n",
        "}"
      ]
    },
    {
      "cell_type": "code",
      "execution_count": null,
      "metadata": {
        "id": "bw8okHHqkh9e"
      },
      "outputs": [],
      "source": [
        "def findDuplicate(nums):\n",
        "    # Initialize the slow and fast pointers\n",
        "    slow = nums[0]\n",
        "    fast = nums[0]\n",
        "\n",
        "    # Phase 1: Detect the meeting point (the start of the cycle)\n",
        "    while True:\n",
        "        print(f\"slow={slow}, fast={fast} \", end=\"\")\n",
        "        slow = nums[slow]\n",
        "        fast = nums[nums[fast]]\n",
        "        print(f\"nslow={slow}, nfast={fast}\")\n",
        "        if slow == fast:\n",
        "            break\n",
        "\n",
        "    # Phase 2: Find the start of the cycle\n",
        "    slow = nums[0]\n",
        "    print(\"next\")\n",
        "    while slow != fast:\n",
        "        print(f\"slow={slow}, fast={fast} \", end=\"\")\n",
        "        slow = nums[slow]\n",
        "        fast = nums[fast]\n",
        "        print(f\"nslow={slow}, nfast={fast}\")\n",
        "\n",
        "    return slow"
      ]
    },
    {
      "cell_type": "markdown",
      "metadata": {
        "id": "5oy2io05HmjC"
      },
      "source": [
        "### Prefix Sum"
      ]
    },
    {
      "cell_type": "code",
      "execution_count": null,
      "metadata": {
        "id": "geOMfsYwHoAF"
      },
      "outputs": [],
      "source": [
        "def calculate_prefix_sum(arr):\n",
        "    n = len(arr)\n",
        "    prefix = [0] * n\n",
        "    prefix[0] = arr[0]\n",
        "\n",
        "    for i in range(1, n):\n",
        "        prefix[i] = prefix[i - 1] + arr[i]\n",
        "\n",
        "    return prefix\n",
        "\n",
        "# Example usage:\n",
        "arr = [1, 2, 3, 4, 5]\n",
        "prefix_sum = calculate_prefix_sum(arr)\n",
        "print(\"Prefix Sum Array:\", prefix_sum)"
      ]
    },
    {
      "cell_type": "markdown",
      "metadata": {
        "id": "6e-_Db98ktr2"
      },
      "source": [
        "# Exercises"
      ]
    },
    {
      "cell_type": "markdown",
      "metadata": {
        "id": "tC7xiFqRlBUg"
      },
      "source": [
        "## Find min required health to beat all ranked players in all levels\n",
        "\n",
        "Alex and Charlie  are playing an online video game. Initially, there are <em>m</em> players in the first level, and there are next n levels. Each level introduces a new player (along with the players from the previous level). Each player has some strength which determines the difficulty of beating this player. To pass any level, select any available players and beat them.</p>\n",
        "\n",
        "<p><i>Alex</i> has completed the game and beaten the <em>rank<sup>th</sup></em> strongest player at every level. Now it's Charlie's turn to play. Whenever a player is beaten, Charlie's health decreases by the amount of strength of that player. So the initial health of Charlie must be greater than or equal to the sum of the strengths of players that are beaten throughout the game.</p>\n",
        "\n",
        "<p>Charlie does not want to lose to Alex, so Charlie decided to also beat the <em>rank<sup>th</sup></em> strongest player at each level. What is the minimum initial health that Charlie needs to start with in order to do this?</p>\n",
        "\n",
        "<p><strong>Example</strong></p>\n",
        "\n",
        "<p><em>initial_players = [1, 2]</em>, <em>new_players = [3, 4]</em>, <em>rank = 2</em></p>\n",
        "\n",
        "<p>&nbsp;</p>\n",
        "\n",
        "<p>Charlie needs to beat the 2<sup>nd</sup> strongest player at each level.</p>\n",
        "\n",
        "<p>For the first level, players have strengths 1 and 2, so Charlie needs to beat the player with strength 1.</p>\n",
        "\n",
        "<p>For the second level, strengths are1, 2, and 3, so Charlie defeats strength 2.</p>\n",
        "\n",
        "<p>For the third level, strengths are 1, 2, 3, and 4, so Charlie<em> </em>defeats strength 3.</p>\n",
        "\n",
        "<p>Total health needed = 1 + 2 + 3 = 6.</p>\n",
        "\n",
        "<p>&nbsp;</p>\n",
        "\n",
        "<p><strong>Function Description </strong></p>\n",
        "\n",
        "<p>Complete the function <em>getMinimumHealth</em> in the editor below.</p>\n",
        "\n",
        "<p>&nbsp;</p>\n",
        "\n",
        "<p><em>getMinimumHealth</em> has the following parameter(s):</p>\n",
        "\n",
        "<p>&nbsp;&nbsp;&nbsp;&nbsp;<em>int</em> <em>initial_players[m]:</em>&nbsp; the strength of initial <em>m </em>players of the game</p>\n",
        "\n",
        "<p>&nbsp;&nbsp;&nbsp;&nbsp;<em>int</em> <em>new_players[n]:</em>&nbsp; the strength of new <em>n </em>players that appear one by one after the first level</p>\n",
        "\n",
        "<p>&nbsp;&nbsp;&nbsp;&nbsp;<em>int </em><em>rank</em>: the rank that <em>p2</em> needs to beat at every level</p>\n",
        "\n",
        "<p>&nbsp;</p>\n",
        "\n",
        "<p><strong>Returns</strong></p>\n",
        "\n",
        "<p><em>&nbsp;&nbsp;&nbsp;&nbsp;long: </em>the initial health needed</p>\n",
        "\n",
        "<p>&nbsp;</p>\n",
        "\n",
        "<p><strong>Constraints</strong></p>\n",
        "\n",
        "<ul>\n",
        "\t<li><em>1&nbsp;≤&nbsp;n, m&nbsp;≤ 10<sup>5</sup></em></li>\n",
        "\t<li><em>1&nbsp;≤ rank&nbsp;≤ m</em></li>\n",
        "\t<li><em>1&nbsp;≤ initial_players[i],&nbsp;new_players[i] ≤&nbsp;10<sup>9</sup></em></li>\n",
        "</ul>\n",
        "\n",
        "<p>&nbsp;</p>\n",
        "\n",
        "<details><summary class=\"section-title\">Input Format for Custom Testing</summary>\n",
        "\n",
        "<div class=\"collapsable-details\">\n",
        "<p>The first line contains an integer <em>m</em>, the size of the array <em>initial_players</em>.</p>\n",
        "\n",
        "<p>Each of the next <em>m</em> lines contains an integer <em>initial_players[i]</em>.</p>\n",
        "\n",
        "<p>The next line contains an integer <em>n</em>, the size of the array <em>new_players</em>.</p>\n",
        "\n",
        "<p>Each of the next <em>n</em> lines contains an integer <em>new_players[i]</em>.</p>\n",
        "\n",
        "<p>The last line contains an integer <em>rank</em>.</p>\n",
        "</div>\n",
        "</details>\n",
        "\n",
        "<details open=\"open\"><summary class=\"section-title\">Sample Case 0</summary>\n",
        "\n",
        "<div class=\"collapsable-details\">\n",
        "<p><strong>Sample Input 0</strong></p>\n",
        "\n",
        "<pre>STDIN\t    FUNCTION\n",
        "-----\t    --------\n",
        "3      →    the size of initial_players[] m = 3\n",
        "1      →    initial_players = [1, 1, 3]\n",
        "1\n",
        "3\n",
        "3      →    the size of new_players[] n = 3\n",
        "2      →    new_players = [2, 2, 4]\n",
        "2\n",
        "4\n",
        "2      →    rank = 2\n",
        "</pre>\n",
        "\n",
        "<p><strong>Sample Output 0</strong></p>\n",
        "\n",
        "<pre>8\n",
        "</pre>\n",
        "\n",
        "<p><strong>Explanation</strong></p>\n",
        "\n",
        "<p><em>initial_players = [1, 1, 3], new_players = [2, 2, 4], rank = 2</em></p>\n",
        "\n",
        "<p>For the first level, players are [1, 1, 3], Charlie beats strength 1.</p>\n",
        "\n",
        "<p>second level, [1, 1, 2, 3], beat strength 2</p>\n",
        "\n",
        "<p>third level, [1, 1, 2, 2, 3], beat strength 2</p>\n",
        "\n",
        "<p>fourth level, [1, 1, 2, 2, 3, 4], beat strength 3.</p>\n",
        "\n",
        "<p>&nbsp;</p>\n",
        "\n",
        "<p>Total health needed is = 1 + 2 + 2 + 3 = 8.</p>\n",
        "</div>\n",
        "</details>\n",
        "\n",
        "<details><summary class=\"section-title\">Sample Case 1</summary>\n",
        "\n",
        "<div class=\"collapsable-details\">\n",
        "<p><strong>Sample Input 1</strong></p>\n",
        "\n",
        "<pre>STDIN\t    FUNCTION\n",
        "-----\t    --------\n",
        "3      →    the size of initial_players[] m = 3\n",
        "1      →    initial_players = [1, 2, 3]\n",
        "2\n",
        "3\n",
        "3      →    the size of new_players[] n = 3\n",
        "6      →    new_players = [6, 5, 4]\n",
        "5\n",
        "4\n",
        "1      →    rank = 1\n",
        "</pre>\n",
        "\n",
        "<p><strong>Sample Output 1</strong></p>\n",
        "\n",
        "<pre>21\n",
        "</pre>\n",
        "\n",
        "<p><strong>Explanation</strong></p>\n",
        "\n",
        "<p><em>initial_players = [1, 2, 3], new_players = [6, 5, 4], rank = 1</em></p>\n",
        "\n",
        "<p>level 1, players are [1, 2, 3], since <em>rank = 1, </em>Charlie<em> </em>beats rank 3</p>\n",
        "\n",
        "<p>level 2, players are [1, 2, 3, 6]</p>\n",
        "\n",
        "<p>level 3, [1, 2, 3, 5, 6]</p>\n",
        "\n",
        "<p>level 4, [1, 2, 3, 4, 5, 6]</p>\n",
        "\n",
        "<p>&nbsp;</p>\n",
        "\n",
        "<p>Total health needed is = 3 + 6 + 6 + 6 = 21.</p>\n",
        "\n",
        "<p>&nbsp;</p>\n",
        "</div>\n",
        "</details>\n",
        "</div>\n"
      ]
    },
    {
      "cell_type": "markdown",
      "metadata": {
        "id": "R8JFtBRft_XU"
      },
      "source": [
        "### Initial answer\n",
        "- time complexity $O(n^{2}*log(n))$\n",
        "- space complexity $O(n)$ chyba"
      ]
    },
    {
      "cell_type": "code",
      "execution_count": null,
      "metadata": {
        "id": "jXw7Mji5k8Zb"
      },
      "outputs": [],
      "source": [
        "import math\n",
        "import os\n",
        "import random\n",
        "import re\n",
        "import sys\n",
        "\n",
        "# The function is expected to return a LONG_INTEGER.\n",
        "# The function accepts following parameters:\n",
        "#  1. INTEGER_ARRAY initial_players\n",
        "#  2. INTEGER_ARRAY new_players\n",
        "#  3. INTEGER rank\n",
        "#\n",
        "\n",
        "def getMinimumHealth(initial_players, new_players, rank):\n",
        "    health = 0\n",
        "    def get_ranked_player(players):\n",
        "        sorted_players_str = sorted(players, reverse=True)\n",
        "        return sorted_players_str[rank-1]\n",
        "\n",
        "    players = initial_players[:]\n",
        "    health += get_ranked_player(players)\n",
        "\n",
        "    for new_player in new_players:\n",
        "        players.append(new_player)\n",
        "        health += get_ranked_player(players)\n",
        "\n",
        "    return health\n",
        "\n",
        "# initial_players = [1, 1, 3]\n",
        "# new_players = [2, 2, 4]\n",
        "# rank = 2\n",
        "# getMinimumHealth(initial_players, new_players, rank)"
      ]
    },
    {
      "cell_type": "markdown",
      "source": [
        "### Optimal Answer\n",
        "- time complexity $O(n*log(n))$\n",
        "- space complexity $O(n)$ chyba"
      ],
      "metadata": {
        "id": "h78bQBrXZ7lx"
      }
    },
    {
      "cell_type": "code",
      "execution_count": null,
      "metadata": {
        "id": "bWujQNKN9S3r"
      },
      "outputs": [],
      "source": [
        "import math\n",
        "import os\n",
        "import random\n",
        "import re\n",
        "import sys\n",
        "import heapq\n",
        "\n",
        "# The function is expected to return a LONG_INTEGER.\n",
        "# The function accepts following parameters:\n",
        "#  1. INTEGER_ARRAY initial_players\n",
        "#  2. INTEGER_ARRAY new_players\n",
        "#  3. INTEGER rank\n",
        "#\n",
        "\n",
        "def getMinimumHealth2(initial_players, new_players, rank):\n",
        "    health = 0\n",
        "    strength_heap = []\n",
        "\n",
        "    for strength in initial_players:\n",
        "        heapq.heappush(strength_heap, strength)\n",
        "\n",
        "    while len(strength_heap) > rank:\n",
        "        heapq.heappop(strength_heap)\n",
        "    health += strength_heap[0]\n",
        "\n",
        "    for i, strength in enumerate(new_players):\n",
        "        heapq.heappush(strength_heap, strength)\n",
        "        while len(strength_heap) > rank:\n",
        "            heapq.heappop(strength_heap)\n",
        "        health += strength_heap[0]\n",
        "\n",
        "    return health\n",
        "\n",
        "initial_players = [1, 1, 3]\n",
        "new_players = [2, 2, 4]\n",
        "rank = 2\n",
        "\n",
        "# getMinimumHealth(, new_players, rank)"
      ]
    },
    {
      "cell_type": "code",
      "execution_count": null,
      "metadata": {
        "id": "leTLb9yZOP6r"
      },
      "outputs": [],
      "source": [
        "import random\n",
        "initial_players = list(range(1,10000))\n",
        "random.shuffle(initial_players)\n",
        "new_players = list(range(10000,30000))\n",
        "random.shuffle(new_players)\n",
        "rank = 67\n"
      ]
    },
    {
      "cell_type": "code",
      "execution_count": null,
      "metadata": {
        "colab": {
          "base_uri": "https://localhost:8080/"
        },
        "id": "giEuCSTm40yh",
        "outputId": "ff168504-bc24-4d1e-fc52-94277e71e41f"
      },
      "outputs": [
        {
          "name": "stdout",
          "output_type": "stream",
          "text": [
            "CPU times: user 1min 18s, sys: 133 ms, total: 1min 18s\n",
            "Wall time: 1min 18s\n"
          ]
        },
        {
          "data": {
            "text/plain": [
              "591003421"
            ]
          },
          "execution_count": 21,
          "metadata": {},
          "output_type": "execute_result"
        }
      ],
      "source": [
        "%%time\n",
        "getMinimumHealth(initial_players, new_players, rank)"
      ]
    },
    {
      "cell_type": "code",
      "execution_count": null,
      "metadata": {
        "colab": {
          "base_uri": "https://localhost:8080/"
        },
        "id": "eNHgFgoWPyvd",
        "outputId": "3a418997-b276-4622-dd07-8329c326fc2e"
      },
      "outputs": [
        {
          "name": "stdout",
          "output_type": "stream",
          "text": [
            "CPU times: user 26.1 ms, sys: 0 ns, total: 26.1 ms\n",
            "Wall time: 26.4 ms\n"
          ]
        },
        {
          "data": {
            "text/plain": [
              "591003421"
            ]
          },
          "execution_count": 22,
          "metadata": {},
          "output_type": "execute_result"
        }
      ],
      "source": [
        "%%time\n",
        "getMinimumHealth2(initial_players, new_players, rank)"
      ]
    }
  ],
  "metadata": {
    "colab": {
      "provenance": [],
      "toc_visible": true
    },
    "kernelspec": {
      "display_name": "Python 3",
      "name": "python3"
    },
    "language_info": {
      "name": "python"
    }
  },
  "nbformat": 4,
  "nbformat_minor": 0
}